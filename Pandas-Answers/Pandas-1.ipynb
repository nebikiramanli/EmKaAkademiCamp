{
 "cells": [
  {
   "attachments": {},
   "cell_type": "markdown",
   "metadata": {},
   "source": [
    "@EmKa Akademi\n",
    "\n",
    "- Evrensel kısaltmaları kullanarak numpy ve pandas kütüphanelerini import ediniz.\n",
    "\n",
    "1) İndexlerinde \"Breaking Bad\" , \"Chernobyl\" , \"Leyla ile Mecnun\" , \"X-Men\"  , \"Captain America\"  , \"Disaster Movie\" olan \n",
    "   Datasında 9.4 , 9.3 , 8.8 , 8.4 , 3.8 , 2.1 olan bir seri oluşturun.(2 Farklı yolla da oluşturun) (Datayı ve İndexleri liste olarak göndererek ve doğrudan dictionary göndererek.)\n",
    "\n",
    "\n",
    "2) donem1_mat adında bir seri oluşturun. Bu serinin içinde \"Ali\" ,\"Deniz\" ,\"Aslı\" ,\"Burak\" ,\"Kerem\" ,\"Yasemin\" ,\"Derya\" index değerleri olsun, \n",
    "   85, 80 , 94 , 74 , 91 , 96 , 70 data değerleri olsun. Bu şekilde donem1 adında öğrencilerin 1.dönem matematik nor ortalamalarının tutulduğu bir seri oluşturun.\n",
    "\n",
    "   donem2_mat adında başka bir seri oluşturun. Okula yeni bir öğrenci gelmiş olsun ve indexlerde bu sefer \"Ali\" ,\"Deniz\" ,\"Aslı\" ,\"Burak\" ,\"Kerem\" ,\"Yasemin\" ,\"Derya\" ,\"Mert\"         indexleri olsun. 80, 92 , 85 , 87, 90 , 92, 100, 83 ise dataları olsun. Bu iki seriyi birleştirerek bütün öğrencilerin yıl sonu matematik ORTALAMASINI hesaplayın.\n",
    "\n",
    "   Not : Eğer bir öğrencinin sadece ikinci dönem notu bulunuyorsa, birinci dönem hesaba eklenmeden ikinci dönem notu yıl sonu notu olarak hesaplansın.\n",
    "\n",
    "\n",
    "3) İndexlerinde \"Osman\", \"Ozlem\", \"İnci\", \"Koray\", \"Melek\" olan, columnlarında \"Sınıf\" , \"Cinsiyet\" , \"Favori Ders\" isimlerinde 3 column bulunan bir DF oluşturacaksınız. Osman'ın sınıfı 8 , cinsiyeti \"E\" , Favori Dersi \"Fen\"\n",
    "Ozlem'in sınıfı 11 , cinsiyeti \"K\" , Favori Dersi \"Mat\"\n",
    "İnci'nin sınıfı 5 , cinsiyeti \"K\" , Favori Dersi \"Sosyal\"\n",
    "Koray'ın sınıfı 9 , cinsiyeti \"E\" , Favori Dersi \"Mat\"\n",
    "Meleğin sınıfı 7 , cinsiyeti \"K\" , Favori Dersi \"Ing\"          Olacak şekilde bir df oluşturun.\n",
    "\n",
    "4) GitHubda bulunan \"Advertising.csv\" reklam datasını herhangi bir platformda DF olarak okuyun ve \"df_adv\" adında bir değişkene atayın. Ardından df_adv değişkeninin ilk 3 satırına, son 3 satırına , rastgele 3 satırına bakın.\n",
    "\n",
    "5) Elde ettiğiniz \"df_adv\" infosuna ve describe'ına bakın ve yorumlamaya çalışın.\n",
    "\n",
    "6) df_adv içinden sadece \"TV\" sütununu seri olarak çekin.\n",
    "\n",
    "7) df_adv içinden \"TV\" ve \"sales\" sütununu çekin ve df_salesTV adında bir değişkene atayın.\n",
    "\n",
    "8) df_adv içindeki \"TV\" , \"radio\" , \"newspaper\" sütunlarındaki değerleri toplayarak \"total_adv\" adında yeni bir sütun oluşturun.\n",
    "\n",
    "9) df_adv içindeki \"sales\" sütununun drop edilmiş halini ekrana yazdırın. (Kalıcı hale getirmeyin. Sadece ekrana bastırın)\n",
    "\n",
    "10) df_adv içindeki son 50 index'i(satırı) çekin ve ekrana yazdırın.\n",
    "\n",
    "11) df_adv içinde satışları 25'den fazla olanları getirin.\n",
    "\n",
    "12) df_adv içinde \"TV\" reklamlarına 250'den fazla VE \"newspaper\" reklamlarına 60'dan fazla harcama yapanları getirin.\n",
    "\n",
    "13) df_adv içinde \"newspaper\" reklam harcamaları 70'den fazla VEYA \"radio\" reklam harcamaları 50'den fazla olanları getirin.\n",
    "\n",
    "14) df_adv içinde \"sales\" ları 10 ile 15(10 ve 15 dahil) arasında olanları getirin.\n",
    "\n",
    "15) df_adv içinde \"sales\" ları tam olarak 18.3 veya 14.0 veya 25.5 veya 21.7 veya 13.6 veya 6.9 olanları getirin.\n",
    "\n",
    "16) GitHubda bulunan \"tips.csv\" restoran datasını \"df_tips\" adıyla okuyun. Ardından ilk 5 satırına bakın.\n",
    "\n",
    "17) df_tips'in \"CC Number\" ve \"Payment ID\" column'larını kalıcı olarak düşürün.\n",
    "\n",
    "18) df_tips'in \"Payer Name\" column'unu kalıcı olarak index yapın ve artık columndan düşürün.\n",
    "\n",
    "19) df_tips içindeki kayıtlardan kişi sayısı 4 veya 4'den fazla olan siparişlerin kaç tane olduğunu bulun.(Sorguyu yazıp istediğimiz satırları getirdikten sonra basitçe len() fonksiyonunu kullanarak sayılarını bulabilirsiniz. Veya daha güzeli .shape[0] yaparak elde ettiğiniz sorguda kaç satır olduğunun sayısına ulaşabilirsiniz.)\n",
    "\n",
    "20) df_tips içindeki Kişi sayısı 2 ya da 3 olan, sigara içen, erkek olan ve ödediği ücret 20 dolardan az olan kişi sayısını bulalım.\n"
   ]
  },
  {
   "cell_type": "code",
   "execution_count": 1,
   "metadata": {},
   "outputs": [],
   "source": [
    "import pandas as pd\n",
    "import numpy as np"
   ]
  },
  {
   "cell_type": "code",
   "execution_count": 2,
   "metadata": {},
   "outputs": [
    {
     "name": "stdout",
     "output_type": "stream",
     "text": [
      "1. Yol Breaking Bad        9.4\n",
      "Chernobyl           9.3\n",
      "Leyla ile Mecnun    8.8\n",
      "X-Men               8.4\n",
      "Captain America     3.8\n",
      "Disaster Movie      2.1\n",
      "dtype: float64\n",
      "2. Yol Breaking Bad        9.4\n",
      "Chernobyl           9.3\n",
      "Leyla ile Mecnun    8.8\n",
      "X-Men               8.4\n",
      "Captain America     3.8\n",
      "Disaster Movie      2.1\n",
      "dtype: float64\n"
     ]
    }
   ],
   "source": [
    "# Q-1 \n",
    "# 1) İndexlerinde \"Breaking Bad\" , \"Chernobyl\" , \"Leyla ile Mecnun\" , \"X-Men\"  , \"Captain America\"  , \"Disaster Movie\" olan \n",
    "#   Datasında 9.4 , 9.3 , 8.8 , 8.4 , 3.8 , 2.1 olan bir seri oluşturun.(2 Farklı yolla da oluşturun) (Datayı ve İndexleri liste olarak göndererek ve \n",
    "# doğrudan dictionary göndererek.)\n",
    "\n",
    "# 1. Yol\n",
    "# indexler\n",
    "\n",
    "movie_series = pd.Series(index=[\"Breaking Bad\", \"Chernobyl\", \"Leyla ile Mecnun\", \"X-Men\", \"Captain America\", \"Disaster Movie\"], data=[9.4, 9.3, 8.8, 8.4, 3.8, 2.1])\n",
    "print(\"1. Yol\", movie_series)\n",
    "\n",
    "# 2. Yol\n",
    "# dictionary\n",
    "movie_series_2 = pd.Series({\n",
    "    \"Breaking Bad\": 9.4,\n",
    "    \"Chernobyl\": 9.3, \n",
    "    \"Leyla ile Mecnun\": 8.8,\n",
    "    \"X-Men\": 8.4, \n",
    "    \"Captain America\": 3.8, \n",
    "    \"Disaster Movie\": 2.1\n",
    "    })\n",
    "\n",
    "print(\"2. Yol\", movie_series_2)"
   ]
  },
  {
   "cell_type": "code",
   "execution_count": 3,
   "metadata": {},
   "outputs": [
    {
     "name": "stdout",
     "output_type": "stream",
     "text": [
      "Ortalama notlar: \n",
      " Ali        82.5\n",
      "Deniz      86.0\n",
      "Aslı       89.5\n",
      "Burak      80.5\n",
      "Kerem      90.5\n",
      "Yasemin    94.0\n",
      "Derya      85.0\n",
      "Mert       83.0\n",
      "dtype: float64\n"
     ]
    }
   ],
   "source": [
    "# Q-2\n",
    "# 2) donem1_mat adında bir seri oluşturun. Bu serinin içinde \"Ali\" ,\"Deniz\" ,\"Aslı\" ,\"Burak\" ,\"Kerem\" ,\"Yasemin\" ,\"Derya\" index değerleri olsun, \n",
    "#   85, 80 , 94 , 74 , 91 , 96 , 70 data değerleri olsun. Bu şekilde donem1 adında öğrencilerin 1.dönem matematik nor ortalamalarının tutulduğu bir seri oluşturun.\n",
    "#   donem2_mat adında başka bir seri oluşturun. Okula yeni bir öğrenci gelmiş olsun ve indexlerde bu sefer \"Ali\" ,\"Deniz\" ,\"Aslı\" ,\"Burak\" ,\"Kerem\" ,\"Yasemin\" ,\"Derya\" ,\"Mert\" indexleri olsun. \n",
    "#   80, 92 , 85 , 87, 90 , 92, 100, 83 ise dataları olsun. \n",
    "#  Bu iki seriyi birleştirerek bütün öğrencilerin yıl sonu matematik ORTALAMASINI hesaplayın.\n",
    "#  Not : Eğer bir öğrencinin sadece ikinci dönem notu bulunuyorsa, birinci dönem hesaba eklenmeden ikinci dönem notu yıl sonu notu olarak hesaplansın.\n",
    "\n",
    "donem1_mat = pd.Series(index=[\"Ali\", \"Deniz\", \"Aslı\", \"Burak\", \"Kerem\", \"Yasemin\", \"Derya\"], data=[85, 80, 94, 74, 91, 96, 70])\n",
    "donem2_mat = pd.Series(index=[\"Ali\", \"Deniz\", \"Aslı\", \"Burak\", \"Kerem\", \"Yasemin\", \"Derya\", \"Mert\"], data=[80, 92, 85, 87, 90, 92, 100, 83])\n",
    "merged_series = pd.concat([donem1_mat, donem2_mat], axis=1)\n",
    "ort = merged_series.mean(axis=1)\n",
    "print(\"Ortalama notlar: \\n\", ort)\n",
    "\n"
   ]
  },
  {
   "cell_type": "code",
   "execution_count": 4,
   "metadata": {},
   "outputs": [
    {
     "name": "stdout",
     "output_type": "stream",
     "text": [
      "      Sınıf Cinsiyet Favori Ders\n",
      "Osman     8        E         Fen\n",
      "Ozlem    11        K         Mat\n",
      "İnci      5        K      Sosyal\n",
      "Koray     9        E         Mat\n",
      "Melek     7        K         Ing\n"
     ]
    }
   ],
   "source": [
    "# Q-3\n",
    "# İndexlerinde \"Osman\", \"Ozlem\", \"İnci\", \"Koray\", \"Melek\" olan, columnlarında \"Sınıf\" , \"Cinsiyet\" , \"Favori Ders\" isimlerinde 3 column bulunan bir DF oluşturacaksınız. \n",
    "# Osman'ın sınıfı 8 , cinsiyeti \"E\" , Favori Dersi \"Fen\"\n",
    "# Ozlem'in sınıfı 11 , cinsiyeti \"K\" , Favori Dersi \"Mat\"\n",
    "# İnci'nin sınıfı 5 , cinsiyeti \"K\" , Favori Dersi \"Sosyal\"\n",
    "# Koray'ın sınıfı 9 , cinsiyeti \"E\" , Favori Dersi \"Mat\"\n",
    "# Meleğin sınıfı 7 , cinsiyeti \"K\" , Favori Dersi \"Ing\"          Olacak şekilde bir df oluşturun.\n",
    "\n",
    "DF = pd.DataFrame(index=[\"Osman\", \"Ozlem\", \"İnci\", \"Koray\", \"Melek\"], columns=[\"Sınıf\", \"Cinsiyet\", \"Favori Ders\"])\n",
    "DF.loc[\"Osman\"] = [8, \"E\", \"Fen\"]\n",
    "DF.loc[\"Ozlem\"] = [11, \"K\", \"Mat\"]\n",
    "DF.loc[\"İnci\"] = [5, \"K\", \"Sosyal\"]\n",
    "DF.loc[\"Koray\"] = [9, \"E\", \"Mat\"]\n",
    "DF.loc[\"Melek\"] = [7, \"K\", \"Ing\"]\n",
    "print(DF)\n"
   ]
  },
  {
   "cell_type": "code",
   "execution_count": 5,
   "metadata": {},
   "outputs": [
    {
     "name": "stdout",
     "output_type": "stream",
     "text": [
      "İlk 3 satır: \n",
      "       TV  radio  newspaper  sales\n",
      "0  230.1   37.8       69.2   22.1\n",
      "1   44.5   39.3       45.1   10.4\n",
      "2   17.2   45.9       69.3    9.3\n",
      "Son 3 satır: \n",
      "         TV  radio  newspaper  sales\n",
      "197  177.0    9.3        6.4   12.8\n",
      "198  283.6   42.0       66.2   25.5\n",
      "199  232.1    8.6        8.7   13.4\n",
      "Rastgele 3 satır: \n",
      "         TV  radio  newspaper  sales\n",
      "27   240.1   16.7       22.9   15.9\n",
      "104  238.2   34.3        5.3   20.7\n",
      "46    89.7    9.9       35.7   10.6\n"
     ]
    }
   ],
   "source": [
    "# Q-4\n",
    "# 4) GitHubda bulunan \"Advertising.csv\" reklam datasını herhangi bir platformda DF olarak okuyun ve \"df_adv\" adında bir değişkene atayın.\n",
    "#  Ardından df_adv değişkeninin ilk 3 satırına, son 3 satırına , rastgele 3 satırına bakın.\n",
    "\n",
    "df_adv = pd.read_csv(\"./Advertising.csv\")\n",
    "print(\"İlk 3 satır: \\n\", df_adv.head(3))\n",
    "print(\"Son 3 satır: \\n\", df_adv.tail(3))\n",
    "print(\"Rastgele 3 satır: \\n\", df_adv.sample(3))\n"
   ]
  },
  {
   "cell_type": "code",
   "execution_count": 6,
   "metadata": {},
   "outputs": [
    {
     "name": "stdout",
     "output_type": "stream",
     "text": [
      "<class 'pandas.core.frame.DataFrame'>\n",
      "RangeIndex: 200 entries, 0 to 199\n",
      "Data columns (total 4 columns):\n",
      " #   Column     Non-Null Count  Dtype  \n",
      "---  ------     --------------  -----  \n",
      " 0   TV         200 non-null    float64\n",
      " 1   radio      200 non-null    float64\n",
      " 2   newspaper  200 non-null    float64\n",
      " 3   sales      200 non-null    float64\n",
      "dtypes: float64(4)\n",
      "memory usage: 6.4 KB\n",
      "İnfo: \n",
      " None\n",
      "Describe: \n",
      "                TV       radio   newspaper       sales\n",
      "count  200.000000  200.000000  200.000000  200.000000\n",
      "mean   147.042500   23.264000   30.554000   14.022500\n",
      "std     85.854236   14.846809   21.778621    5.217457\n",
      "min      0.700000    0.000000    0.300000    1.600000\n",
      "25%     74.375000    9.975000   12.750000   10.375000\n",
      "50%    149.750000   22.900000   25.750000   12.900000\n",
      "75%    218.825000   36.525000   45.100000   17.400000\n",
      "max    296.400000   49.600000  114.000000   27.000000\n"
     ]
    }
   ],
   "source": [
    "# Q-5\n",
    "# 5) Elde ettiğiniz \"df_adv\" infosuna ve describe'ına bakın ve yorumlamaya çalışın.\n",
    "\n",
    "print(\"İnfo: \\n\", df_adv.info())\n",
    "print(\"Describe: \\n\", df_adv.describe())"
   ]
  },
  {
   "cell_type": "code",
   "execution_count": 7,
   "metadata": {},
   "outputs": [
    {
     "name": "stdout",
     "output_type": "stream",
     "text": [
      "TV sütunu: \n",
      " 0      230.1\n",
      "1       44.5\n",
      "2       17.2\n",
      "3      151.5\n",
      "4      180.8\n",
      "       ...  \n",
      "195     38.2\n",
      "196     94.2\n",
      "197    177.0\n",
      "198    283.6\n",
      "199    232.1\n",
      "Name: TV, Length: 200, dtype: float64\n"
     ]
    }
   ],
   "source": [
    "# Q-6\n",
    "# 6) df_adv içinden sadece \"TV\" sütununu seri olarak çekin.\n",
    "\n",
    "print(\"TV sütunu: \\n\", df_adv[\"TV\"])\n"
   ]
  },
  {
   "cell_type": "code",
   "execution_count": 8,
   "metadata": {},
   "outputs": [
    {
     "name": "stdout",
     "output_type": "stream",
     "text": [
      "TV ve sales sütunları: \n",
      "         TV  sales\n",
      "0    230.1   22.1\n",
      "1     44.5   10.4\n",
      "2     17.2    9.3\n",
      "3    151.5   18.5\n",
      "4    180.8   12.9\n",
      "..     ...    ...\n",
      "195   38.2    7.6\n",
      "196   94.2    9.7\n",
      "197  177.0   12.8\n",
      "198  283.6   25.5\n",
      "199  232.1   13.4\n",
      "\n",
      "[200 rows x 2 columns]\n"
     ]
    }
   ],
   "source": [
    "# Q-7\n",
    "# 7) df_adv içinden \"TV\" ve \"sales\" sütununu çekin ve df_salesTV adında bir değişkene atayın.\n",
    "\n",
    "df_salesTV = df_adv[[\"TV\", \"sales\"]]\n",
    "print(\"TV ve sales sütunları: \\n\", df_salesTV)\n"
   ]
  },
  {
   "cell_type": "code",
   "execution_count": 9,
   "metadata": {},
   "outputs": [
    {
     "name": "stdout",
     "output_type": "stream",
     "text": [
      "total_adv sütunu: \n",
      " 0      337.1\n",
      "1      128.9\n",
      "2      132.4\n",
      "3      251.3\n",
      "4      250.0\n",
      "       ...  \n",
      "195     55.7\n",
      "196    107.2\n",
      "197    192.7\n",
      "198    391.8\n",
      "199    249.4\n",
      "Name: total_adv, Length: 200, dtype: float64\n"
     ]
    }
   ],
   "source": [
    "# Q-8\n",
    "# 8) df_adv içindeki \"TV\" , \"radio\" , \"newspaper\" sütunlarındaki değerleri toplayarak \"total_adv\" adında yeni bir sütun oluşturun.\n",
    "\n",
    "df_adv[\"total_adv\"] = df_adv[\"TV\"] + df_adv[\"radio\"] + df_adv[\"newspaper\"]\n",
    "print(\"total_adv sütunu: \\n\", df_adv[\"total_adv\"])"
   ]
  },
  {
   "cell_type": "code",
   "execution_count": 10,
   "metadata": {},
   "outputs": [
    {
     "name": "stdout",
     "output_type": "stream",
     "text": [
      "sales sütunu drop edilmiş hali: \n",
      "         TV  radio  newspaper  total_adv\n",
      "0    230.1   37.8       69.2      337.1\n",
      "1     44.5   39.3       45.1      128.9\n",
      "2     17.2   45.9       69.3      132.4\n",
      "3    151.5   41.3       58.5      251.3\n",
      "4    180.8   10.8       58.4      250.0\n",
      "..     ...    ...        ...        ...\n",
      "195   38.2    3.7       13.8       55.7\n",
      "196   94.2    4.9        8.1      107.2\n",
      "197  177.0    9.3        6.4      192.7\n",
      "198  283.6   42.0       66.2      391.8\n",
      "199  232.1    8.6        8.7      249.4\n",
      "\n",
      "[200 rows x 4 columns]\n"
     ]
    }
   ],
   "source": [
    "# Q-9\n",
    "# 9) df_adv içindeki \"sales\" sütununun drop edilmiş halini ekrana yazdırın. (Kalıcı hale getirmeyin. Sadece ekrana bastırın)\n",
    "\n",
    "print(\"sales sütunu drop edilmiş hali: \\n\", df_adv.drop(\"sales\", axis=1))"
   ]
  },
  {
   "cell_type": "code",
   "execution_count": 11,
   "metadata": {},
   "outputs": [
    {
     "name": "stdout",
     "output_type": "stream",
     "text": [
      "Son 50 index: \n",
      "         TV  radio  newspaper  sales  total_adv\n",
      "150  280.7   13.9       37.0   16.1      331.6\n",
      "151  121.0    8.4       48.7   11.6      178.1\n",
      "152  197.6   23.3       14.2   16.6      235.1\n",
      "153  171.3   39.7       37.7   19.0      248.7\n",
      "154  187.8   21.1        9.5   15.6      218.4\n",
      "155    4.1   11.6        5.7    3.2       21.4\n",
      "156   93.9   43.5       50.5   15.3      187.9\n",
      "157  149.8    1.3       24.3   10.1      175.4\n",
      "158   11.7   36.9       45.2    7.3       93.8\n",
      "159  131.7   18.4       34.6   12.9      184.7\n",
      "160  172.5   18.1       30.7   14.4      221.3\n",
      "161   85.7   35.8       49.3   13.3      170.8\n",
      "162  188.4   18.1       25.6   14.9      232.1\n",
      "163  163.5   36.8        7.4   18.0      207.7\n",
      "164  117.2   14.7        5.4   11.9      137.3\n",
      "165  234.5    3.4       84.8   11.9      322.7\n",
      "166   17.9   37.6       21.6    8.0       77.1\n",
      "167  206.8    5.2       19.4   12.2      231.4\n",
      "168  215.4   23.6       57.6   17.1      296.6\n",
      "169  284.3   10.6        6.4   15.0      301.3\n",
      "170   50.0   11.6       18.4    8.4       80.0\n",
      "171  164.5   20.9       47.4   14.5      232.8\n",
      "172   19.6   20.1       17.0    7.6       56.7\n",
      "173  168.4    7.1       12.8   11.7      188.3\n",
      "174  222.4    3.4       13.1   11.5      238.9\n",
      "175  276.9   48.9       41.8   27.0      367.6\n",
      "176  248.4   30.2       20.3   20.2      298.9\n",
      "177  170.2    7.8       35.2   11.7      213.2\n",
      "178  276.7    2.3       23.7   11.8      302.7\n",
      "179  165.6   10.0       17.6   12.6      193.2\n",
      "180  156.6    2.6        8.3   10.5      167.5\n",
      "181  218.5    5.4       27.4   12.2      251.3\n",
      "182   56.2    5.7       29.7    8.7       91.6\n",
      "183  287.6   43.0       71.8   26.2      402.4\n",
      "184  253.8   21.3       30.0   17.6      305.1\n",
      "185  205.0   45.1       19.6   22.6      269.7\n",
      "186  139.5    2.1       26.6   10.3      168.2\n",
      "187  191.1   28.7       18.2   17.3      238.0\n",
      "188  286.0   13.9        3.7   15.9      303.6\n",
      "189   18.7   12.1       23.4    6.7       54.2\n",
      "190   39.5   41.1        5.8   10.8       86.4\n",
      "191   75.5   10.8        6.0    9.9       92.3\n",
      "192   17.2    4.1       31.6    5.9       52.9\n",
      "193  166.8   42.0        3.6   19.6      212.4\n",
      "194  149.7   35.6        6.0   17.3      191.3\n",
      "195   38.2    3.7       13.8    7.6       55.7\n",
      "196   94.2    4.9        8.1    9.7      107.2\n",
      "197  177.0    9.3        6.4   12.8      192.7\n",
      "198  283.6   42.0       66.2   25.5      391.8\n",
      "199  232.1    8.6        8.7   13.4      249.4\n"
     ]
    }
   ],
   "source": [
    "# Q-10\n",
    "# 10) df_adv içindeki son 50 index'i(satırı) çekin ve ekrana yazdırın.\n",
    "\n",
    "print(\"Son 50 index: \\n\", df_adv.tail(50))"
   ]
  },
  {
   "cell_type": "code",
   "execution_count": 12,
   "metadata": {},
   "outputs": [
    {
     "name": "stdout",
     "output_type": "stream",
     "text": [
      "25'den fazla satış: \n",
      "         TV  radio  newspaper  sales  total_adv\n",
      "36   266.9   43.8        5.0   25.4      315.7\n",
      "98   289.7   42.3       51.2   25.4      383.2\n",
      "147  243.2   49.0       44.3   25.4      336.5\n",
      "175  276.9   48.9       41.8   27.0      367.6\n",
      "183  287.6   43.0       71.8   26.2      402.4\n",
      "198  283.6   42.0       66.2   25.5      391.8\n"
     ]
    }
   ],
   "source": [
    "# Q-11\n",
    "# 11) df_adv içinde satışları 25'den fazla olanları getirin.\n",
    "\n",
    "print(\"25'den fazla satış: \\n\", df_adv[df_adv[\"sales\"] > 25])"
   ]
  },
  {
   "cell_type": "code",
   "execution_count": 13,
   "metadata": {},
   "outputs": [
    {
     "name": "stdout",
     "output_type": "stream",
     "text": [
      "250'den fazla TV ve 60'dan fazla newspaper harcaması: \n",
      "         TV  radio  newspaper  sales  total_adv\n",
      "93   250.9   36.5       72.3   22.2      359.7\n",
      "101  296.4   36.3      100.9   23.8      433.6\n",
      "183  287.6   43.0       71.8   26.2      402.4\n",
      "198  283.6   42.0       66.2   25.5      391.8\n"
     ]
    }
   ],
   "source": [
    "# Q-12\n",
    "# 12) df_adv içinde \"TV\" reklamlarına 250'den fazla VE \"newspaper\" reklamlarına 60'dan fazla harcama yapanları getirin.\n",
    "\n",
    "print(\"250'den fazla TV ve 60'dan fazla newspaper harcaması: \\n\", df_adv[(df_adv[\"TV\"] > 250) & (df_adv[\"newspaper\"] > 60)])"
   ]
  },
  {
   "cell_type": "code",
   "execution_count": 14,
   "metadata": {},
   "outputs": [
    {
     "name": "stdout",
     "output_type": "stream",
     "text": [
      "70'den fazla newspaper ve 50'den fazla radio harcaması: \n",
      "         TV  radio  newspaper  sales  total_adv\n",
      "5      8.7   48.9       75.0    7.2      132.6\n",
      "16    67.8   36.6      114.0   12.5      218.4\n",
      "75    16.9   43.7       89.4    8.7      150.0\n",
      "88    88.3   25.5       73.4   12.9      187.2\n",
      "93   250.9   36.5       72.3   22.2      359.7\n",
      "101  296.4   36.3      100.9   23.8      433.6\n",
      "118  125.7   36.9       79.2   15.9      241.8\n",
      "124  229.5   32.3       74.2   19.7      336.0\n",
      "141  193.7   35.4       75.6   19.2      304.7\n",
      "165  234.5    3.4       84.8   11.9      322.7\n",
      "183  287.6   43.0       71.8   26.2      402.4\n"
     ]
    }
   ],
   "source": [
    "# Q-13\n",
    "# 13) df_adv içinde \"newspaper\" reklam harcamaları 70'den fazla VEYA \"radio\" reklam harcamaları 50'den fazla olanları getirin.\n",
    "\n",
    "print(\"70'den fazla newspaper ve 50'den fazla radio harcaması: \\n\", df_adv[(df_adv[\"newspaper\"] > 70) | (df_adv[\"radio\"] > 50)])"
   ]
  },
  {
   "cell_type": "code",
   "execution_count": 15,
   "metadata": {},
   "outputs": [
    {
     "name": "stdout",
     "output_type": "stream",
     "text": [
      "10 ile 15 arasında satış: \n",
      "         TV  radio  newspaper  sales  total_adv\n",
      "1     44.5   39.3       45.1   10.4      128.9\n",
      "4    180.8   10.8       58.4   12.9      250.0\n",
      "6     57.5   32.8       23.5   11.8      113.8\n",
      "7    120.2   19.6       11.6   13.2      151.4\n",
      "9    199.8    2.6       21.2   10.6      223.6\n",
      "..     ...    ...        ...    ...        ...\n",
      "181  218.5    5.4       27.4   12.2      251.3\n",
      "186  139.5    2.1       26.6   10.3      168.2\n",
      "190   39.5   41.1        5.8   10.8       86.4\n",
      "197  177.0    9.3        6.4   12.8      192.7\n",
      "199  232.1    8.6        8.7   13.4      249.4\n",
      "\n",
      "[80 rows x 5 columns]\n"
     ]
    }
   ],
   "source": [
    "# Q-14\n",
    "# 14) df_adv içinde \"sales\" ları 10 ile 15(10 ve 15 dahil) arasında olanları getirin.\n",
    "\n",
    "print(\"10 ile 15 arasında satış: \\n\", df_adv[(df_adv[\"sales\"] >= 10) & (df_adv[\"sales\"] <= 15)])"
   ]
  },
  {
   "cell_type": "code",
   "execution_count": 16,
   "metadata": {},
   "outputs": [
    {
     "name": "stdout",
     "output_type": "stream",
     "text": [
      "18.3, 14.0, 25.5, 21.7, 13.6, 6.9 satış: \n",
      "         TV  radio  newspaper  sales  total_adv\n",
      "63   102.7   29.6        8.4   14.0      140.7\n",
      "70   199.1   30.6       38.7   18.3      268.4\n",
      "76    27.5    1.6       20.7    6.9       49.8\n",
      "83    68.4   44.5       35.6   13.6      148.5\n",
      "84   213.5   43.0       33.8   21.7      290.3\n",
      "198  283.6   42.0       66.2   25.5      391.8\n"
     ]
    }
   ],
   "source": [
    "# Q-15\n",
    "# 15) df_adv içinde \"sales\" ları tam olarak 18.3 veya 14.0 veya 25.5 veya 21.7 veya 13.6 veya 6.9 olanları getirin.\n",
    "\n",
    "print(\"18.3, 14.0, 25.5, 21.7, 13.6, 6.9 satış: \\n\", df_adv[df_adv[\"sales\"].isin([18.3, 14.0, 25.5, 21.7, 13.6, 6.9])])"
   ]
  },
  {
   "cell_type": "code",
   "execution_count": 17,
   "metadata": {},
   "outputs": [
    {
     "name": "stdout",
     "output_type": "stream",
     "text": [
      "İlk 5 satır: \n",
      "    total_bill   tip     sex smoker  day    time  size  price_per_person  \\\n",
      "0       16.99  1.01  Female     No  Sun  Dinner     2              8.49   \n",
      "1       10.34  1.66    Male     No  Sun  Dinner     3              3.45   \n",
      "2       21.01  3.50    Male     No  Sun  Dinner     3              7.00   \n",
      "3       23.68  3.31    Male     No  Sun  Dinner     2             11.84   \n",
      "4       24.59  3.61  Female     No  Sun  Dinner     4              6.15   \n",
      "\n",
      "           Payer Name         CC Number Payment ID  \n",
      "0  Christy Cunningham  3560325168603410    Sun2959  \n",
      "1      Douglas Tucker  4478071379779230    Sun4608  \n",
      "2      Travis Walters  6011812112971322    Sun4458  \n",
      "3    Nathaniel Harris  4676137647685994    Sun5260  \n",
      "4        Tonya Carter  4832732618637221    Sun2251  \n"
     ]
    }
   ],
   "source": [
    "# Q-16\n",
    "# 16) GitHubda bulunan \"tips.csv\" restoran datasını \"df_tips\" adıyla okuyun. Ardından ilk 5 satırına bakın.\n",
    "\n",
    "df_tips = pd.read_csv(\"./tips.csv\")\n",
    "print(\"İlk 5 satır: \\n\", df_tips.head())"
   ]
  },
  {
   "cell_type": "code",
   "execution_count": 18,
   "metadata": {},
   "outputs": [],
   "source": [
    "# Q-17\n",
    "# 17) df_tips'in \"CC Number\" ve \"Payment ID\" column'larını kalıcı olarak düşürün.\n",
    "\n",
    "df_tips.drop([\"CC Number\", \"Payment ID\"], axis=1, inplace=True)"
   ]
  },
  {
   "cell_type": "code",
   "execution_count": 19,
   "metadata": {},
   "outputs": [
    {
     "data": {
      "text/html": [
       "<div>\n",
       "<style scoped>\n",
       "    .dataframe tbody tr th:only-of-type {\n",
       "        vertical-align: middle;\n",
       "    }\n",
       "\n",
       "    .dataframe tbody tr th {\n",
       "        vertical-align: top;\n",
       "    }\n",
       "\n",
       "    .dataframe thead th {\n",
       "        text-align: right;\n",
       "    }\n",
       "</style>\n",
       "<table border=\"1\" class=\"dataframe\">\n",
       "  <thead>\n",
       "    <tr style=\"text-align: right;\">\n",
       "      <th></th>\n",
       "      <th>total_bill</th>\n",
       "      <th>tip</th>\n",
       "      <th>sex</th>\n",
       "      <th>smoker</th>\n",
       "      <th>day</th>\n",
       "      <th>time</th>\n",
       "      <th>size</th>\n",
       "      <th>price_per_person</th>\n",
       "    </tr>\n",
       "    <tr>\n",
       "      <th>Payer Name</th>\n",
       "      <th></th>\n",
       "      <th></th>\n",
       "      <th></th>\n",
       "      <th></th>\n",
       "      <th></th>\n",
       "      <th></th>\n",
       "      <th></th>\n",
       "      <th></th>\n",
       "    </tr>\n",
       "  </thead>\n",
       "  <tbody>\n",
       "    <tr>\n",
       "      <th>Christy Cunningham</th>\n",
       "      <td>16.99</td>\n",
       "      <td>1.01</td>\n",
       "      <td>Female</td>\n",
       "      <td>No</td>\n",
       "      <td>Sun</td>\n",
       "      <td>Dinner</td>\n",
       "      <td>2</td>\n",
       "      <td>8.49</td>\n",
       "    </tr>\n",
       "    <tr>\n",
       "      <th>Douglas Tucker</th>\n",
       "      <td>10.34</td>\n",
       "      <td>1.66</td>\n",
       "      <td>Male</td>\n",
       "      <td>No</td>\n",
       "      <td>Sun</td>\n",
       "      <td>Dinner</td>\n",
       "      <td>3</td>\n",
       "      <td>3.45</td>\n",
       "    </tr>\n",
       "    <tr>\n",
       "      <th>Travis Walters</th>\n",
       "      <td>21.01</td>\n",
       "      <td>3.50</td>\n",
       "      <td>Male</td>\n",
       "      <td>No</td>\n",
       "      <td>Sun</td>\n",
       "      <td>Dinner</td>\n",
       "      <td>3</td>\n",
       "      <td>7.00</td>\n",
       "    </tr>\n",
       "    <tr>\n",
       "      <th>Nathaniel Harris</th>\n",
       "      <td>23.68</td>\n",
       "      <td>3.31</td>\n",
       "      <td>Male</td>\n",
       "      <td>No</td>\n",
       "      <td>Sun</td>\n",
       "      <td>Dinner</td>\n",
       "      <td>2</td>\n",
       "      <td>11.84</td>\n",
       "    </tr>\n",
       "    <tr>\n",
       "      <th>Tonya Carter</th>\n",
       "      <td>24.59</td>\n",
       "      <td>3.61</td>\n",
       "      <td>Female</td>\n",
       "      <td>No</td>\n",
       "      <td>Sun</td>\n",
       "      <td>Dinner</td>\n",
       "      <td>4</td>\n",
       "      <td>6.15</td>\n",
       "    </tr>\n",
       "  </tbody>\n",
       "</table>\n",
       "</div>"
      ],
      "text/plain": [
       "                    total_bill   tip     sex smoker  day    time  size  \\\n",
       "Payer Name                                                               \n",
       "Christy Cunningham       16.99  1.01  Female     No  Sun  Dinner     2   \n",
       "Douglas Tucker           10.34  1.66    Male     No  Sun  Dinner     3   \n",
       "Travis Walters           21.01  3.50    Male     No  Sun  Dinner     3   \n",
       "Nathaniel Harris         23.68  3.31    Male     No  Sun  Dinner     2   \n",
       "Tonya Carter             24.59  3.61  Female     No  Sun  Dinner     4   \n",
       "\n",
       "                    price_per_person  \n",
       "Payer Name                            \n",
       "Christy Cunningham              8.49  \n",
       "Douglas Tucker                  3.45  \n",
       "Travis Walters                  7.00  \n",
       "Nathaniel Harris               11.84  \n",
       "Tonya Carter                    6.15  "
      ]
     },
     "execution_count": 19,
     "metadata": {},
     "output_type": "execute_result"
    }
   ],
   "source": [
    "# Q-18\n",
    "# 18) df_tips'in \"Payer Name\" column'unu kalıcı olarak index yapın ve artık columndan düşürün.\n",
    "\n",
    "df_tips.set_index(\"Payer Name\", inplace=True, drop=True)\n",
    "df_tips.head()"
   ]
  },
  {
   "cell_type": "code",
   "execution_count": 20,
   "metadata": {},
   "outputs": [
    {
     "name": "stdout",
     "output_type": "stream",
     "text": [
      "4 veya 4'den fazla kişi sayısı: \n",
      " 46\n"
     ]
    }
   ],
   "source": [
    "# Q-19\n",
    "# 19) df_tips içindeki kayıtlardan kişi sayısı 4 veya 4'den fazla olan siparişlerin kaç tane olduğunu bulun.\n",
    "# (Sorguyu yazıp istediğimiz satırları getirdikten sonra basitçe len() fonksiyonunu kullanarak sayılarını bulabilirsiniz. \n",
    "# Veya daha güzeli .shape[0] yaparak elde ettiğiniz sorguda kaç satır olduğunun sayısına ulaşabilirsiniz.)\n",
    "\n",
    "print(\"4 veya 4'den fazla kişi sayısı: \\n\", df_tips[df_tips[\"size\"] >= 4].shape[0])\n"
   ]
  },
  {
   "cell_type": "code",
   "execution_count": 28,
   "metadata": {},
   "outputs": [
    {
     "name": "stdout",
     "output_type": "stream",
     "text": [
      "27\n"
     ]
    }
   ],
   "source": [
    "# Q-20\n",
    "# 20) df_tips içindeki Kişi sayısı 2 ya da 3 olan, sigara içen, erkek olan ve ödediği ücret 20 dolardan az olan kişi sayısını bulalım.\n",
    "\n",
    "print(df_tips[((df_tips[\"size\"]==2) | (df_tips[\"size\"]==3)) & (df_tips[\"smoker\"] == \"Yes\") & (df_tips[\"sex\"] == \"Male\") & (df_tips[\"total_bill\"] < 20)].shape[0])"
   ]
  },
  {
   "cell_type": "code",
   "execution_count": null,
   "metadata": {},
   "outputs": [],
   "source": []
  }
 ],
 "metadata": {
  "kernelspec": {
   "display_name": "Python 3",
   "language": "python",
   "name": "python3"
  },
  "language_info": {
   "codemirror_mode": {
    "name": "ipython",
    "version": 3
   },
   "file_extension": ".py",
   "mimetype": "text/x-python",
   "name": "python",
   "nbconvert_exporter": "python",
   "pygments_lexer": "ipython3",
   "version": "3.10.4"
  },
  "orig_nbformat": 4
 },
 "nbformat": 4,
 "nbformat_minor": 2
}
