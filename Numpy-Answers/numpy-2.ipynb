{
 "cells": [
  {
   "attachments": {},
   "cell_type": "markdown",
   "metadata": {},
   "source": [
    " Sorular :\n",
    "\n",
    " # https://github.com/EmincanY\n",
    "\n",
    "\n",
    "1) 0-29 arası(29 dahil, toplam 30 tam sayı) tam sayılardan oluşan bir boyutlu bir array oluşturun ardından bu array'in shape'ini (15,2) şeklinde güncelleyip 2 boyutlu hale getirin.\n",
    "2) 60 adet rastgele tam sayı verilerinden oluşan bir boyutlu bir array oluşturun. Devamında bu array'i istediğiniz shapelerde 3 boyutlu hale getirin ve son durumda oluşan array'in boyutunu ve shape'ini kontrol edin.\n",
    "3) 20 elemanlı ve sadece rakamlardan oluşan iki boyutlu bir array oluşturun. Ardından bu array'i düzleştirin ve tek boyutlu hale getirin ve son durumda oluşan array'in boyutunu ve shape'ini kontrol edin.\n",
    "4) İstediğiniz herhangi elemanlardan oluşan 2 Boyutlu bir array oluşturun. Oluşturduğunuz bu 2 boyutlu array'in içindeki bütün elemanları hem yavaş yol olan for döngüsüyle hem de daha hızlı yol olan uygun NumPy metoduyla tek tek dönerek ekrana yazdırın.\n",
    "5) 5,10,15,20,25,30 değerlerinden oluşan bir boyutlu bir array ve\n",
    "   1,2,3,4,5,6 değerlerinden oluşan başka bir boyutlu bir array oluşturun.\n",
    "   Bu arraylerinin elemanlarına kendi aralarında 4 işlem uygulayın. İki arrayinde 1.indexindekiler toplansın/çıkartılsın/çarpılsın/bölünsün gibi.\n",
    "6) 0-100 arası rastgele 10 tam sayıdan oluşan bir array oluşturun ve oluşturulan arrayin sum/mean/max/var/std değerlerini inceleyin.\n",
    "7) 0-20 arası(20 dahil değil) tam sayılardan oluşan ve 500-530(530 dahil) arası tam sayılardan oluşan 2 array oluşturun. Ardından bu iki array'i concatenate ederek ekrana yazdırın.\n",
    "8) 15-50(50 dahil) arası tam sayılardan oluşan bir array oluşturun. Daha sonra 10-100 arası(100 dahil) tam sayılardan oluşan 2.bir array oluşturun. Bu 2 arrayi concatanate ederek 3.bir array oluşturun ve bu array'in 25.index ile 50.index'i(50 dahil) arasındaki değerlerini 888 yapın.\n",
    "9) 0-40(40 dahil değil) arası değerlerden oluşan (8,5) shape'inde 2 boyutlu bir array ve  320-360(360 dahil değil) değerlerinden oluşan (8,5) shape'inde 2 boyutlubaşka bir array oluşturun. Devamında bu iki array'i hem axis = 0'da hem de axis = 1'de concatenate ederek farkı karşılaştırın.\n",
    "10) 9.Soruda oluşturduğunuz 2 array'i axis = 2'de concatenate etmeye çalışın. Ardından axis = 2'de stacklemeye(yığınlamaya) çalışın. İkisi arasındaki farkı karşılaştırın.\n",
    "11) [1, 20, 25, 4, 4, 5, 4, 4, 1, 6, 9, 12, 1, 5] değerlerinden oluşan bir boyutlu bir array oluşturun. Devamında bu array'in içinde değeri 5'e eşit olan değerlerin indexleri bulun.\n",
    "12) Yukarıda oluşturduğunuz array içinde değeri çift olan değerlerin indexlerini bulun.\n",
    "13) Yukarıda oluşturduğunuz array içinde değeri 4'den büyük olan değerlerin indexlerini bulun.\n",
    "14) Yukarıda oluşturduğunuz array içinde değeri 5'e tam bölünen değerlerin indexlerini bulun.\n",
    "15) 85-100(100 dahil) arasından rastgele 1 tam sayı seçin\n",
    "16) İki basamaklı tam sayılar arasından rastgele sayılar seçerek (3,3) shape'inde bir array oluşturun.\n",
    "17) 35-60 arasındaki tam sayılardan bir array oluşturun, ardından bu array içinden rastgele 1 tam sayı seçin.\n",
    "18) Sadece [3, 8, 10, 53] değerlerinden oluşan (2,5) shape'inde 2 boyutlu bir array oluşturun."
   ]
  },
  {
   "cell_type": "code",
   "execution_count": 2,
   "metadata": {},
   "outputs": [
    {
     "name": "stdout",
     "output_type": "stream",
     "text": [
      "Array_1 1 Demensional: \n",
      " [ 0  1  2  3  4  5  6  7  8  9 10 11 12 13 14 15 16 17 18 19 20 21 22 23\n",
      " 24 25 26 27 28 29]\n",
      "Array_1 2 Demensional: \n",
      " [[ 0  1]\n",
      " [ 2  3]\n",
      " [ 4  5]\n",
      " [ 6  7]\n",
      " [ 8  9]\n",
      " [10 11]\n",
      " [12 13]\n",
      " [14 15]\n",
      " [16 17]\n",
      " [18 19]\n",
      " [20 21]\n",
      " [22 23]\n",
      " [24 25]\n",
      " [26 27]\n",
      " [28 29]]\n"
     ]
    }
   ],
   "source": [
    "# Q-1 \n",
    "# 0-29 arası(29 dahil, toplam 30 tam sayı) tam sayılardan oluşan bir boyutlu bir array oluşturun ardından bu array'in shape'ini \n",
    "# (15,2) şeklinde güncelleyip 2 boyutlu hale getirin.\n",
    "\n",
    "import numpy as np\n",
    "array_1 = np.arange(30)\n",
    "print(\"Array_1 1 Demensional: \\n\",array_1)\n",
    "array_1 = array_1.reshape(15,2)\n",
    "print(\"Array_1 2 Demensional: \\n\",array_1)"
   ]
  },
  {
   "cell_type": "code",
   "execution_count": 3,
   "metadata": {},
   "outputs": [
    {
     "name": "stdout",
     "output_type": "stream",
     "text": [
      "Array_2 1 Demensional: \n",
      " [85 53 84 62 65 77 23 27  7 55 40 15  1 67 59 88 65 84 17  9  3 92 87 42\n",
      " 61 62 62 96 69 62 37 94 38 89 95 42 33 61 39 34  4 79 27 10 22 21 30 70\n",
      " 10 64 64 46 52 32 32 26 47 77 43 60]\n",
      "Array_2 3 Demensional: \n",
      " [[[85 53 84 62 65]\n",
      "  [77 23 27  7 55]\n",
      "  [40 15  1 67 59]\n",
      "  [88 65 84 17  9]]\n",
      "\n",
      " [[ 3 92 87 42 61]\n",
      "  [62 62 96 69 62]\n",
      "  [37 94 38 89 95]\n",
      "  [42 33 61 39 34]]\n",
      "\n",
      " [[ 4 79 27 10 22]\n",
      "  [21 30 70 10 64]\n",
      "  [64 46 52 32 32]\n",
      "  [26 47 77 43 60]]]\n"
     ]
    }
   ],
   "source": [
    "# Q-2\n",
    "# 60 adet rastgele tam sayı verilerinden oluşan bir boyutlu bir array oluşturun. Devamında bu array'i istediğiniz shapelerde 3 boyutlu hale getirin ve \n",
    "# son durumda oluşan array'in boyutunu ve shape'ini kontrol edin.\n",
    "\n",
    "array_2 = np.random.randint(0,100,60)\n",
    "print(\"Array_2 1 Demensional: \\n\",array_2)\n",
    "array_2 = array_2.reshape(3,4,-1)\n",
    "print(\"Array_2 3 Demensional: \\n\",array_2)"
   ]
  },
  {
   "cell_type": "code",
   "execution_count": 4,
   "metadata": {},
   "outputs": [
    {
     "name": "stdout",
     "output_type": "stream",
     "text": [
      "Array_2d 2 Demensional: \n",
      " [[1 7 3 4 3]\n",
      " [3 1 3 5 8]\n",
      " [7 4 6 3 8]\n",
      " [1 3 4 7 6]]\n",
      "Array_2d 1 Demensional: \n",
      " [1 7 3 4 3 3 1 3 5 8 7 4 6 3 8 1 3 4 7 6]\n"
     ]
    }
   ],
   "source": [
    "# Q-3\n",
    "# 20 elemanlı ve sadece rakamlardan oluşan iki boyutlu bir array oluşturun. \n",
    "# Ardından bu array'i düzleştirin ve tek boyutlu hale getirin ve son durumda oluşan array'in boyutunu ve shape'ini kontrol edin.\n",
    "\n",
    "array_2d = np.random.randint(0,10,(4,5))\n",
    "print(\"Array_2d 2 Demensional: \\n\",array_2d)\n",
    "array_2d_to_1d = array_2d.reshape(-1)\n",
    "print(\"Array_2d 1 Demensional: \\n\",array_2d_to_1d)"
   ]
  },
  {
   "cell_type": "code",
   "execution_count": 11,
   "metadata": {},
   "outputs": [
    {
     "name": "stdout",
     "output_type": "stream",
     "text": [
      "\n",
      " For Loop: \n",
      "\n",
      "1\n",
      "2\n",
      "3\n",
      "4\n",
      "5\n",
      "6\n",
      "7\n",
      "8\n",
      "9\n",
      "10\n",
      "\n",
      " NumPy Method: \n",
      "\n",
      "1\n",
      "2\n",
      "3\n",
      "4\n",
      "5\n",
      "6\n",
      "7\n",
      "8\n",
      "9\n",
      "10\n"
     ]
    }
   ],
   "source": [
    "# Q-4\n",
    "# İstediğiniz herhangi elemanlardan oluşan 2 Boyutlu bir array oluşturun. \n",
    "# Oluşturduğunuz bu 2 boyutlu array'in içindeki bütün elemanları hem yavaş yol olan for döngüsüyle hem de daha hızlı yol olan uygun NumPy metoduyla tek tek dönerek ekrana yazdırın.\n",
    "\n",
    "array_2d = np.array([[1,2,3,4,5],[6,7,8,9,10]])\n",
    "\n",
    "print(\"\\n For Loop: \\n\")\n",
    "for i in range(array_2d.shape[0]):\n",
    "    for j in range(array_2d.shape[1]):\n",
    "        print(array_2d[i,j])\n",
    "\n",
    "print(\"\\n NumPy Method: \\n\")\n",
    "for i in np.nditer(array_2d):\n",
    "    print(i)\n",
    "\n"
   ]
  },
  {
   "cell_type": "code",
   "execution_count": 12,
   "metadata": {},
   "outputs": [
    {
     "name": "stdout",
     "output_type": "stream",
     "text": [
      "\n",
      " Addition: \n",
      " [ 6 12 18 24 30 36]\n",
      "\n",
      " Subtraction: \n",
      " [ 4  8 12 16 20 24]\n",
      "\n",
      " Multiplication: \n",
      " [  5  20  45  80 125 180]\n",
      "\n",
      " Division: \n",
      " [5. 5. 5. 5. 5. 5.]\n"
     ]
    }
   ],
   "source": [
    "# Q-5\n",
    "# 5,10,15,20,25,30 değerlerinden oluşan bir boyutlu bir array ve\n",
    "# 1,2,3,4,5,6 değerlerinden oluşan başka bir boyutlu bir array oluşturun.\n",
    "# Bu arraylerinin elemanlarına kendi aralarında 4 işlem uygulayın. İki arrayinde 1.indexindekiler toplansın/çıkartılsın/çarpılsın/bölünsün gibi.\n",
    "array_1 = np.array([5,10,15,20,25,30])\n",
    "array_2 = np.array([1,2,3,4,5,6])\n",
    "print(\"\\n Addition: \\n\",array_1 + array_2)\n",
    "print(\"\\n Subtraction: \\n\",array_1 - array_2)\n",
    "print(\"\\n Multiplication: \\n\",array_1 * array_2)\n",
    "print(\"\\n Division: \\n\",array_1 / array_2)\n"
   ]
  },
  {
   "cell_type": "code",
   "execution_count": 13,
   "metadata": {},
   "outputs": [
    {
     "name": "stdout",
     "output_type": "stream",
     "text": [
      "\n",
      " Array_3: \n",
      " [24 47 62 22 11 22 94 95 88 75]\n",
      "\n",
      " Sum: \n",
      " 540\n",
      "\n",
      " Mean: \n",
      " 54.0\n",
      "\n",
      " Max: \n",
      " 95\n",
      "\n",
      " Var: \n",
      " 978.8\n",
      "\n",
      " Std: \n",
      " 31.285779517218362\n"
     ]
    }
   ],
   "source": [
    "# Q-6\n",
    "# 0-100 arası rastgele 10 tam sayıdan oluşan bir array oluşturun ve oluşturulan arrayin sum/mean/max/var/std değerlerini inceleyin.\n",
    "\n",
    "array_3 = np.random.randint(0,100,10)\n",
    "print(\"\\n Array_3: \\n\",array_3)\n",
    "print(\"\\n Sum: \\n\",array_3.sum())\n",
    "print(\"\\n Mean: \\n\",array_3.mean())\n",
    "print(\"\\n Max: \\n\",array_3.max())\n",
    "print(\"\\n Var: \\n\",array_3.var())\n",
    "print(\"\\n Std: \\n\",array_3.std())\n"
   ]
  },
  {
   "cell_type": "code",
   "execution_count": 15,
   "metadata": {},
   "outputs": [
    {
     "name": "stdout",
     "output_type": "stream",
     "text": [
      "Array_1: \n",
      " [ 0  1  2  3  4  5  6  7  8  9 10 11 12 13 14 15 16 17 18 19 20]\n",
      "Array_2: \n",
      " [500 501 502 503 504 505 506 507 508 509 510 511 512 513 514 515 516 517\n",
      " 518 519 520 521 522 523 524 525 526 527 528 529 530]\n",
      "Concatenate: \n",
      " [  0   1   2   3   4   5   6   7   8   9  10  11  12  13  14  15  16  17\n",
      "  18  19  20 500 501 502 503 504 505 506 507 508 509 510 511 512 513 514\n",
      " 515 516 517 518 519 520 521 522 523 524 525 526 527 528 529 530]\n"
     ]
    }
   ],
   "source": [
    "# Q-7\n",
    "# 0-20 arası(20 dahil değil) tam sayılardan oluşan ve 500-530(530 dahil) arası tam sayılardan oluşan 2 array oluşturun. \n",
    "# Ardından bu iki array'i concatenate ederek ekrana yazdırın.\n",
    "array_1 = np.arange(0,21)\n",
    "array_2 = np.arange(500,531)\n",
    "print(\"Array_1: \\n\",array_1)\n",
    "print(\"Array_2: \\n\",array_2)\n",
    "print(\"Concatenate: \\n\",np.concatenate([array_1,array_2]))\n",
    "\n"
   ]
  },
  {
   "cell_type": "code",
   "execution_count": 16,
   "metadata": {},
   "outputs": [
    {
     "name": "stdout",
     "output_type": "stream",
     "text": [
      "Concatanate Array: \n",
      " [ 15  16  17  18  19  20  21  22  23  24  25  26  27  28  29  30  31  32\n",
      "  33  34  35  36  37  38  39 888 888 888 888 888 888 888 888 888 888 888\n",
      " 888 888 888 888 888 888 888 888 888 888 888 888 888 888 888  25  26  27\n",
      "  28  29  30  31  32  33  34  35  36  37  38  39  40  41  42  43  44  45\n",
      "  46  47  48  49  50  51  52  53  54  55  56  57  58  59  60  61  62  63\n",
      "  64  65  66  67  68  69  70  71  72  73  74  75  76  77  78  79  80  81\n",
      "  82  83  84  85  86  87  88  89  90  91  92  93  94  95  96  97  98  99\n",
      " 100]\n"
     ]
    }
   ],
   "source": [
    "# Q-8\n",
    "# 15-50(50 dahil) arası tam sayılardan oluşan bir array oluşturun. \n",
    "# Daha sonra 10-100 arası(100 dahil) tam sayılardan oluşan 2.bir array oluşturun. \n",
    "# Bu 2 arrayi concatanate ederek 3.bir array oluşturun ve bu array'in 25.index ile 50.index'i(50 dahil) arasındaki değerlerini 888 yapın.\n",
    "\n",
    "array_1 = np.arange(15,51, dtype = int)\n",
    "array_2 = np.arange(10,101, dtype = int)\n",
    "concatanate_array = np.concatenate([array_1,array_2])\n",
    "concatanate_array[25:51] = 888\n",
    "print(\"Concatanate Array: \\n\",concatanate_array)"
   ]
  },
  {
   "cell_type": "code",
   "execution_count": 22,
   "metadata": {},
   "outputs": [
    {
     "name": "stdout",
     "output_type": "stream",
     "text": [
      "Axis_0: \n",
      " [[  0   1   2   3   4]\n",
      " [  5   6   7   8   9]\n",
      " [ 10  11  12  13  14]\n",
      " [ 15  16  17  18  19]\n",
      " [ 20  21  22  23  24]\n",
      " [ 25  26  27  28  29]\n",
      " [ 30  31  32  33  34]\n",
      " [ 35  36  37  38  39]\n",
      " [320 321 322 323 324]\n",
      " [325 326 327 328 329]\n",
      " [330 331 332 333 334]\n",
      " [335 336 337 338 339]\n",
      " [340 341 342 343 344]\n",
      " [345 346 347 348 349]\n",
      " [350 351 352 353 354]\n",
      " [355 356 357 358 359]]\n",
      "Axis_1: \n",
      " [[  0   1   2   3   4 320 321 322 323 324]\n",
      " [  5   6   7   8   9 325 326 327 328 329]\n",
      " [ 10  11  12  13  14 330 331 332 333 334]\n",
      " [ 15  16  17  18  19 335 336 337 338 339]\n",
      " [ 20  21  22  23  24 340 341 342 343 344]\n",
      " [ 25  26  27  28  29 345 346 347 348 349]\n",
      " [ 30  31  32  33  34 350 351 352 353 354]\n",
      " [ 35  36  37  38  39 355 356 357 358 359]]\n"
     ]
    }
   ],
   "source": [
    "# Q-9\n",
    "# 0-40(40 dahil değil) arası değerlerden oluşan (8,5) shape'inde 2 boyutlu bir array ve  \n",
    "# 320-360(360 dahil değil) değerlerinden oluşan (8,5) shape'inde 2 boyutlubaşka bir array oluşturun. \n",
    "# Devamında bu iki array'i hem axis = 0'da hem de axis = 1'de concatenate ederek farkı karşılaştırın.\n",
    "\n",
    "array_1 = np.arange(0,40).reshape(8,5)\n",
    "array_2 = np.arange(320,360).reshape(8,5)\n",
    "\n",
    "axis_0 = np.concatenate([array_1,array_2],axis = 0)\n",
    "axis_1 = np.concatenate([array_1,array_2],axis = 1)\n",
    "\n",
    "print(\"Axis_0: \\n\",axis_0)\n",
    "print(\"Axis_1: \\n\",axis_1)\n",
    "\n"
   ]
  },
  {
   "cell_type": "code",
   "execution_count": 25,
   "metadata": {},
   "outputs": [
    {
     "name": "stdout",
     "output_type": "stream",
     "text": [
      "Axis_2: \n",
      " [[[  0   1   2   3   4 320 321 322 323 324]\n",
      "  [  5   6   7   8   9 325 326 327 328 329]]\n",
      "\n",
      " [[ 10  11  12  13  14 330 331 332 333 334]\n",
      "  [ 15  16  17  18  19 335 336 337 338 339]]\n",
      "\n",
      " [[ 20  21  22  23  24 340 341 342 343 344]\n",
      "  [ 25  26  27  28  29 345 346 347 348 349]]\n",
      "\n",
      " [[ 30  31  32  33  34 350 351 352 353 354]\n",
      "  [ 35  36  37  38  39 355 356 357 358 359]]]\n",
      "Axis_2_Stack: \n",
      " [[[[  0   1   2   3   4]\n",
      "   [320 321 322 323 324]]\n",
      "\n",
      "  [[  5   6   7   8   9]\n",
      "   [325 326 327 328 329]]]\n",
      "\n",
      "\n",
      " [[[ 10  11  12  13  14]\n",
      "   [330 331 332 333 334]]\n",
      "\n",
      "  [[ 15  16  17  18  19]\n",
      "   [335 336 337 338 339]]]\n",
      "\n",
      "\n",
      " [[[ 20  21  22  23  24]\n",
      "   [340 341 342 343 344]]\n",
      "\n",
      "  [[ 25  26  27  28  29]\n",
      "   [345 346 347 348 349]]]\n",
      "\n",
      "\n",
      " [[[ 30  31  32  33  34]\n",
      "   [350 351 352 353 354]]\n",
      "\n",
      "  [[ 35  36  37  38  39]\n",
      "   [355 356 357 358 359]]]]\n"
     ]
    }
   ],
   "source": [
    "# Q-10\n",
    "# 9.Soruda oluşturduğunuz 2 array'i axis = 2'de concatenate etmeye çalışın. Ardından axis = 2'de stacklemeye(yığınlamaya) çalışın. İkisi arasındaki farkı karşılaştırın.\n",
    "\n",
    "array_1 = np.arange(0,40).reshape(4,2,5)\n",
    "array_2 = np.arange(320,360).reshape(4,2,5)\n",
    "\n",
    "axis_2 = np.concatenate([array_1,array_2], axis = 2)\n",
    "axis_2_stack = np.stack([array_1,array_2], axis = 2)\n",
    "\n",
    "print(\"Axis_2: \\n\",axis_2)\n",
    "print(\"Axis_2_Stack: \\n\",axis_2_stack)\n"
   ]
  },
  {
   "cell_type": "code",
   "execution_count": 26,
   "metadata": {},
   "outputs": [
    {
     "name": "stdout",
     "output_type": "stream",
     "text": [
      "Index of 5: \n",
      " (array([ 5, 13], dtype=int64),)\n"
     ]
    }
   ],
   "source": [
    "# Q-11\n",
    "# [1, 20, 25, 4, 4, 5, 4, 4, 1, 6, 9, 12, 1, 5] değerlerinden oluşan bir boyutlu bir array oluşturun. \n",
    "# Devamında bu array'in içinde değeri 5'e eşit olan değerlerin indexleri bulun.\n",
    "\n",
    "array_1 = np.array([1, 20, 25, 4, 4, 5, 4, 4, 1, 6, 9, 12, 1, 5])\n",
    "print(\"Index of 5: \\n\",np.where(array_1 == 5))\n"
   ]
  },
  {
   "cell_type": "code",
   "execution_count": 27,
   "metadata": {},
   "outputs": [
    {
     "name": "stdout",
     "output_type": "stream",
     "text": [
      "Index of Even Numbers: \n",
      " (array([ 1,  3,  4,  6,  7,  9, 11], dtype=int64),)\n"
     ]
    }
   ],
   "source": [
    "# Q-12 \n",
    "# Yukarıda oluşturduğunuz array içinde değeri çift olan değerlerin indexlerini bulun.\n",
    "array_1 = np.array([1, 20, 25, 4, 4, 5, 4, 4, 1, 6, 9, 12, 1, 5])\n",
    "print(\"Index of Even Numbers: \\n\",np.where(array_1 % 2 == 0))"
   ]
  },
  {
   "cell_type": "code",
   "execution_count": 28,
   "metadata": {},
   "outputs": [
    {
     "name": "stdout",
     "output_type": "stream",
     "text": [
      "Index of Numbers Greater Than 4: \n",
      " (array([ 1,  2,  5,  9, 10, 11, 13], dtype=int64),)\n"
     ]
    }
   ],
   "source": [
    "# Q-13\n",
    "# Yukarıda oluşturduğunuz array içinde değeri 4'den büyük olan değerlerin indexlerini bulun.\n",
    "array_1 = np.array([1, 20, 25, 4, 4, 5, 4, 4, 1, 6, 9, 12, 1, 5])\n",
    "print(\"Index of Numbers Greater Than 4: \\n\",np.where(array_1 > 4))\n"
   ]
  },
  {
   "cell_type": "code",
   "execution_count": 29,
   "metadata": {},
   "outputs": [
    {
     "name": "stdout",
     "output_type": "stream",
     "text": [
      "Index of Numbers Divisible by 5: \n",
      " (array([ 1,  2,  5, 13], dtype=int64),)\n"
     ]
    }
   ],
   "source": [
    "# Q-14\n",
    "# Yukarıda oluşturduğunuz array içinde değeri 5'e tam bölünen değerlerin indexlerini bulun.\n",
    "array_1 = np.array([1, 20, 25, 4, 4, 5, 4, 4, 1, 6, 9, 12, 1, 5])\n",
    "print(\"Index of Numbers Divisible by 5: \\n\",np.where(array_1 % 5 == 0))\n"
   ]
  },
  {
   "cell_type": "code",
   "execution_count": 32,
   "metadata": {},
   "outputs": [
    {
     "name": "stdout",
     "output_type": "stream",
     "text": [
      "Random Number: \n",
      " 97\n"
     ]
    }
   ],
   "source": [
    "# Q-15\n",
    "# 85-100(100 dahil) arasından rastgele 1 tam sayı seçin\n",
    "\n",
    "print(\"Random Number: \\n\",np.random.randint(85,101))"
   ]
  },
  {
   "cell_type": "code",
   "execution_count": 33,
   "metadata": {},
   "outputs": [
    {
     "name": "stdout",
     "output_type": "stream",
     "text": [
      "Random Array: \n",
      " [[25 63 89]\n",
      " [23 47 79]\n",
      " [62 45 34]]\n"
     ]
    }
   ],
   "source": [
    "# Q-16\n",
    "# İki basamaklı tam sayılar arasından rastgele sayılar seçerek (3,3) shape'inde bir array oluşturun.\n",
    "array_1 = np.random.randint(10,100,(3,3))\n",
    "print(\"Random Array: \\n\",array_1)"
   ]
  },
  {
   "cell_type": "code",
   "execution_count": 34,
   "metadata": {},
   "outputs": [
    {
     "name": "stdout",
     "output_type": "stream",
     "text": [
      "Random Choice: \n",
      " 49\n"
     ]
    }
   ],
   "source": [
    "# Q-17\n",
    "# 35-60 arasındaki tam sayılardan bir array oluşturun, ardından bu array içinden rastgele 1 tam sayı seçin.\n",
    "array_1 = np.arange(35,61)\n",
    "print(\"Random Choice: \\n\",np.random.choice(array_1))"
   ]
  },
  {
   "cell_type": "code",
   "execution_count": 35,
   "metadata": {},
   "outputs": [
    {
     "name": "stdout",
     "output_type": "stream",
     "text": [
      "Array: \n",
      " [[ 3  8 10 53]\n",
      " [ 3  8 10 53]]\n"
     ]
    }
   ],
   "source": [
    "# Q-18\n",
    "# Sadece [3, 8, 10, 53] değerlerinden oluşan (2,5) shape'inde 2 boyutlu bir array oluşturun.\n",
    "array_1 = np.array([[3, 8, 10, 53],[3, 8, 10, 53]])\n",
    "print(\"Array: \\n\",array_1)\n"
   ]
  },
  {
   "cell_type": "code",
   "execution_count": null,
   "metadata": {},
   "outputs": [],
   "source": []
  }
 ],
 "metadata": {
  "kernelspec": {
   "display_name": "Python 3",
   "language": "python",
   "name": "python3"
  },
  "language_info": {
   "codemirror_mode": {
    "name": "ipython",
    "version": 3
   },
   "file_extension": ".py",
   "mimetype": "text/x-python",
   "name": "python",
   "nbconvert_exporter": "python",
   "pygments_lexer": "ipython3",
   "version": "3.10.4"
  },
  "orig_nbformat": 4
 },
 "nbformat": 4,
 "nbformat_minor": 2
}
